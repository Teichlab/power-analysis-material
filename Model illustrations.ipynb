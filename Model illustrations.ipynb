{
 "cells": [
  {
   "cell_type": "code",
   "execution_count": 1,
   "metadata": {
    "collapsed": false
   },
   "outputs": [
    {
     "name": "stdout",
     "output_type": "stream",
     "text": [
      "Populating the interactive namespace from numpy and matplotlib\n"
     ]
    }
   ],
   "source": [
    "%pylab inline\n",
    "%run /nfs/research2/teichmann/valentine/scrnatb/scrnatb/toolbox\n",
    "\n",
    "sns.set_style(\"darkgrid\", {\"axes.facecolor\": \".9\"})\n",
    "sns.set_context('poster', font_scale=1.5)"
   ]
  },
  {
   "cell_type": "code",
   "execution_count": 86,
   "metadata": {
    "collapsed": false
   },
   "outputs": [],
   "source": [
    "stats = pd.read_csv('public_stats.csv', index_col=0)"
   ]
  },
  {
   "cell_type": "code",
   "execution_count": 171,
   "metadata": {
    "collapsed": false
   },
   "outputs": [],
   "source": [
    "concentration = pd.read_table('ERCC_Controls_Analysis.txt', index_col=1)['concentration in Mix 1 (attomoles/ul)']\n",
    "concentration = concentration.sort_index()"
   ]
  },
  {
   "cell_type": "code",
   "execution_count": 173,
   "metadata": {
    "collapsed": true
   },
   "outputs": [],
   "source": [
    "from sklearn.linear_model import LogisticRegression"
   ]
  },
  {
   "cell_type": "code",
   "execution_count": 337,
   "metadata": {
    "collapsed": true
   },
   "outputs": [],
   "source": [
    "lr = LogisticRegression(solver='liblinear', fit_intercept=True)"
   ]
  },
  {
   "cell_type": "code",
   "execution_count": 338,
   "metadata": {
    "collapsed": false
   },
   "outputs": [],
   "source": [
    "s = stats.sample()"
   ]
  },
  {
   "cell_type": "code",
   "execution_count": 339,
   "metadata": {
    "collapsed": false
   },
   "outputs": [
    {
     "data": {
      "text/html": [
       "<div>\n",
       "<table border=\"1\" class=\"dataframe\">\n",
       "  <thead>\n",
       "    <tr style=\"text-align: right;\">\n",
       "      <th></th>\n",
       "      <th>ERCC-00002</th>\n",
       "      <th>ERCC-00003</th>\n",
       "      <th>ERCC-00004</th>\n",
       "      <th>ERCC-00009</th>\n",
       "      <th>ERCC-00012</th>\n",
       "      <th>ERCC-00013</th>\n",
       "      <th>ERCC-00014</th>\n",
       "      <th>ERCC-00016</th>\n",
       "      <th>ERCC-00017</th>\n",
       "      <th>ERCC-00019</th>\n",
       "      <th>...</th>\n",
       "      <th>ERCC-00162</th>\n",
       "      <th>ERCC-00163</th>\n",
       "      <th>ERCC-00164</th>\n",
       "      <th>ERCC-00165</th>\n",
       "      <th>ERCC-00168</th>\n",
       "      <th>ERCC-00170</th>\n",
       "      <th>ERCC-00171</th>\n",
       "      <th>total_expression</th>\n",
       "      <th>detected_genes</th>\n",
       "      <th>reads</th>\n",
       "    </tr>\n",
       "  </thead>\n",
       "  <tbody>\n",
       "    <tr>\n",
       "      <th>SRP035326_batch_32_CCAAGT</th>\n",
       "      <td>15.0</td>\n",
       "      <td>0.0</td>\n",
       "      <td>1.0</td>\n",
       "      <td>0.0</td>\n",
       "      <td>0.0</td>\n",
       "      <td>0.0</td>\n",
       "      <td>0.0</td>\n",
       "      <td>0.0</td>\n",
       "      <td>0.0</td>\n",
       "      <td>0.0</td>\n",
       "      <td>...</td>\n",
       "      <td>0.0</td>\n",
       "      <td>0.0</td>\n",
       "      <td>0.0</td>\n",
       "      <td>0.0</td>\n",
       "      <td>0.0</td>\n",
       "      <td>0.0</td>\n",
       "      <td>0.0</td>\n",
       "      <td>54.0</td>\n",
       "      <td>796.0</td>\n",
       "      <td>29525.0</td>\n",
       "    </tr>\n",
       "  </tbody>\n",
       "</table>\n",
       "<p>1 rows × 95 columns</p>\n",
       "</div>"
      ],
      "text/plain": [
       "                           ERCC-00002  ERCC-00003  ERCC-00004  ERCC-00009  \\\n",
       "SRP035326_batch_32_CCAAGT        15.0         0.0         1.0         0.0   \n",
       "\n",
       "                           ERCC-00012  ERCC-00013  ERCC-00014  ERCC-00016  \\\n",
       "SRP035326_batch_32_CCAAGT         0.0         0.0         0.0         0.0   \n",
       "\n",
       "                           ERCC-00017  ERCC-00019   ...     ERCC-00162  \\\n",
       "SRP035326_batch_32_CCAAGT         0.0         0.0   ...            0.0   \n",
       "\n",
       "                           ERCC-00163  ERCC-00164  ERCC-00165  ERCC-00168  \\\n",
       "SRP035326_batch_32_CCAAGT         0.0         0.0         0.0         0.0   \n",
       "\n",
       "                           ERCC-00170  ERCC-00171  total_expression  \\\n",
       "SRP035326_batch_32_CCAAGT         0.0         0.0              54.0   \n",
       "\n",
       "                           detected_genes    reads  \n",
       "SRP035326_batch_32_CCAAGT           796.0  29525.0  \n",
       "\n",
       "[1 rows x 95 columns]"
      ]
     },
     "execution_count": 339,
     "metadata": {},
     "output_type": "execute_result"
    }
   ],
   "source": [
    "s"
   ]
  },
  {
   "cell_type": "code",
   "execution_count": 379,
   "metadata": {
    "collapsed": true
   },
   "outputs": [],
   "source": [
    "s = stats.loc[['SRP045452_1772058148_D02']]"
   ]
  },
  {
   "cell_type": "code",
   "execution_count": 380,
   "metadata": {
    "collapsed": false
   },
   "outputs": [],
   "source": [
    "X = np.log(concentration[:, None])"
   ]
  },
  {
   "cell_type": "code",
   "execution_count": 381,
   "metadata": {
    "collapsed": false
   },
   "outputs": [],
   "source": [
    "y = s.iloc[0].ix[concentration.index] >= 0.1\n",
    "if y.sum() < 8:\n",
    "    print('Not enough spikes, take another sample')"
   ]
  },
  {
   "cell_type": "code",
   "execution_count": 382,
   "metadata": {
    "collapsed": false
   },
   "outputs": [],
   "source": [
    "lr.fit(X, y)\n",
    "midpoint = -lr.intercept_ / lr.coef_[0]"
   ]
  },
  {
   "cell_type": "code",
   "execution_count": 383,
   "metadata": {
    "collapsed": true
   },
   "outputs": [],
   "source": [
    "xx = np.linspace(np.log(concentration.min()), np.log(concentration.max()))[:, None]"
   ]
  },
  {
   "cell_type": "code",
   "execution_count": 384,
   "metadata": {
    "collapsed": false
   },
   "outputs": [],
   "source": [
    "yy = lr.predict_proba(xx)[:, 1]"
   ]
  },
  {
   "cell_type": "code",
   "execution_count": 385,
   "metadata": {
    "collapsed": true
   },
   "outputs": [],
   "source": [
    "sns.set_style('ticks')\n",
    "sns.set_context('poster', font_scale=1)"
   ]
  },
  {
   "cell_type": "code",
   "execution_count": 386,
   "metadata": {
    "collapsed": true
   },
   "outputs": [],
   "source": [
    "from matplotlib.colors import ListedColormap"
   ]
  },
  {
   "cell_type": "code",
   "execution_count": 387,
   "metadata": {
    "collapsed": false
   },
   "outputs": [],
   "source": [
    "lcm = ListedColormap(sns.color_palette(\"RdBu\", n_colors=2))"
   ]
  },
  {
   "cell_type": "code",
   "execution_count": 388,
   "metadata": {
    "collapsed": false
   },
   "outputs": [
    {
     "data": {
      "text/plain": [
       "array([ 2.8878078])"
      ]
     },
     "execution_count": 388,
     "metadata": {},
     "output_type": "execute_result"
    }
   ],
   "source": [
    "midpoint"
   ]
  },
  {
   "cell_type": "code",
   "execution_count": null,
   "metadata": {
    "collapsed": false
   },
   "outputs": [],
   "source": []
  },
  {
   "cell_type": "code",
   "execution_count": 390,
   "metadata": {
    "collapsed": false
   },
   "outputs": [
    {
     "data": {
      "image/png": "[encoded data removed]",
      "text/plain": [
       "<matplotlib.figure.Figure at 0x2b216655cf98>"
      ]
     },
     "metadata": {},
     "output_type": "display_data"
    }
   ],
   "source": [
    "figsize(6, 4)\n",
    "plt.scatter(X, y - 0.05 + np.random.rand(*y.shape) * 0.1, edgecolor='none', s=40, c=y, cmap=lcm);\n",
    "plt.plot(xx, yy);\n",
    "plt.autoscale(False)\n",
    "plt.plot([midpoint, midpoint], [-1, 0.5], c='k', linestyle='--', lw=1.);\n",
    "plt.plot([-10, midpoint], [0.5, 0.5], c='k', linestyle='--', lw=1.);\n",
    "sns.despine()\n",
    "sns.axlabel('log Input ERCC Molecules', 'Detection probability')\n",
    "plt.tight_layout()\n",
    "plt.savefig('figures_rev_1/detection-illustration.pdf')"
   ]
  },
  {
   "cell_type": "code",
   "execution_count": 391,
   "metadata": {
    "collapsed": false
   },
   "outputs": [],
   "source": [
    "y = np.log(s.iloc[0].ix[concentration.index]) \\\n",
    "                    .replace([np.inf, -np.inf], np.nan) \\\n",
    "                    .dropna()"
   ]
  },
  {
   "cell_type": "code",
   "execution_count": 392,
   "metadata": {
    "collapsed": true
   },
   "outputs": [],
   "source": [
    "X = np.log(concentration[y.index])"
   ]
  },
  {
   "cell_type": "code",
   "execution_count": 393,
   "metadata": {
    "collapsed": true
   },
   "outputs": [],
   "source": [
    "from scipy import stats as sstats"
   ]
  },
  {
   "cell_type": "code",
   "execution_count": 394,
   "metadata": {
    "collapsed": false
   },
   "outputs": [],
   "source": [
    "reg_res = sstats.linregress(X, y)"
   ]
  },
  {
   "cell_type": "code",
   "execution_count": 395,
   "metadata": {
    "collapsed": false
   },
   "outputs": [
    {
     "data": {
      "text/plain": [
       "LinregressResult(slope=0.76170891895151938, intercept=-1.8451492207538958, rvalue=0.91054953338351174, pvalue=2.2308977371403919e-15, stderr=0.05763743831026398)"
      ]
     },
     "execution_count": 395,
     "metadata": {},
     "output_type": "execute_result"
    }
   ],
   "source": [
    "reg_res"
   ]
  },
  {
   "cell_type": "code",
   "execution_count": 396,
   "metadata": {
    "collapsed": true
   },
   "outputs": [],
   "source": [
    "xx = np.linspace(X.min(), X.max())"
   ]
  },
  {
   "cell_type": "code",
   "execution_count": 399,
   "metadata": {
    "collapsed": false
   },
   "outputs": [
    {
     "data": {
      "image/png": "[encoded data removed]",
      "text/plain": [
       "<matplotlib.figure.Figure at 0x2b2166670ac8>"
      ]
     },
     "metadata": {},
     "output_type": "display_data"
    }
   ],
   "source": [
    "plt.scatter(np.log(concentration[y.index]), y, edgecolor='none', s=40, cmap=lcm, c=np.ones_like(y), vmin=0);\n",
    "plt.plot(xx, reg_res.slope * xx + reg_res.intercept);\n",
    "sns.despine()\n",
    "sns.axlabel('log input ERCC Molecules', 'Measured expression \\n(log TPM or UMI counts)')\n",
    "plt.tight_layout()\n",
    "plt.savefig('figures_rev_1/correlation-illustration.pdf')"
   ]
  },
  {
   "cell_type": "code",
   "execution_count": null,
   "metadata": {
    "collapsed": true
   },
   "outputs": [],
   "source": []
  },
  {
   "cell_type": "code",
   "execution_count": 363,
   "metadata": {
    "collapsed": true
   },
   "outputs": [],
   "source": [
    "# UMI efficiency illustration"
   ]
  },
  {
   "cell_type": "code",
   "execution_count": 364,
   "metadata": {
    "collapsed": false
   },
   "outputs": [],
   "source": [
    "conditions = pd.read_csv('public_conditions.csv', index_col=0)"
   ]
  },
  {
   "cell_type": "code",
   "execution_count": 365,
   "metadata": {
    "collapsed": false
   },
   "outputs": [],
   "source": [
    "cell = conditions.query('protocol == \"STRT-Seq\"').sample().iloc[0].name"
   ]
  },
  {
   "cell_type": "code",
   "execution_count": 366,
   "metadata": {
    "collapsed": false
   },
   "outputs": [
    {
     "data": {
      "text/plain": [
       "'SRP045452_1772062113_G08'"
      ]
     },
     "execution_count": 366,
     "metadata": {},
     "output_type": "execute_result"
    }
   ],
   "source": [
    "cell"
   ]
  },
  {
   "cell_type": "code",
   "execution_count": 367,
   "metadata": {
    "collapsed": true
   },
   "outputs": [],
   "source": [
    "cell = 'SRP045452_1772066076_H07'"
   ]
  },
  {
   "cell_type": "code",
   "execution_count": 368,
   "metadata": {
    "collapsed": true
   },
   "outputs": [],
   "source": [
    "import statsmodels.api as sm\n",
    "import statsmodels.formula.api as smf"
   ]
  },
  {
   "cell_type": "code",
   "execution_count": 369,
   "metadata": {
    "collapsed": true
   },
   "outputs": [],
   "source": [
    "input_molecules = \\\n",
    "conditions['volume'][cell] * 1e-3 * \\\n",
    "1. / (conditions['dilution'][cell]) * 1e-18 * \\\n",
    "6.02214179 * 1e23 * \\\n",
    "concentration"
   ]
  },
  {
   "cell_type": "code",
   "execution_count": 370,
   "metadata": {
    "collapsed": true
   },
   "outputs": [],
   "source": [
    "s = stats.loc[cell][input_molecules.index]"
   ]
  },
  {
   "cell_type": "code",
   "execution_count": 371,
   "metadata": {
    "collapsed": false
   },
   "outputs": [],
   "source": [
    "df = pd.DataFrame({'input': input_molecules, 'expression': s})"
   ]
  },
  {
   "cell_type": "code",
   "execution_count": 372,
   "metadata": {
    "collapsed": true
   },
   "outputs": [],
   "source": [
    "mod = smf.ols(formula='np.log10(expression / input) ~ 1', data=df.replace(0, np.nan).dropna())"
   ]
  },
  {
   "cell_type": "code",
   "execution_count": 373,
   "metadata": {
    "collapsed": false
   },
   "outputs": [
    {
     "data": {
      "text/plain": [
       "0.0038766357433334163"
      ]
     },
     "execution_count": 373,
     "metadata": {},
     "output_type": "execute_result"
    }
   ],
   "source": [
    "input_molecules.min()"
   ]
  },
  {
   "cell_type": "code",
   "execution_count": 374,
   "metadata": {
    "collapsed": true
   },
   "outputs": [],
   "source": [
    "res = mod.fit()"
   ]
  },
  {
   "cell_type": "code",
   "execution_count": 375,
   "metadata": {
    "collapsed": false
   },
   "outputs": [
    {
     "data": {
      "text/plain": [
       "-0.72358369234879849"
      ]
     },
     "execution_count": 375,
     "metadata": {},
     "output_type": "execute_result"
    }
   ],
   "source": [
    "res.params['Intercept']"
   ]
  },
  {
   "cell_type": "code",
   "execution_count": 376,
   "metadata": {
    "collapsed": false
   },
   "outputs": [
    {
     "data": {
      "text/plain": [
       "0.1889802014701214"
      ]
     },
     "execution_count": 376,
     "metadata": {},
     "output_type": "execute_result"
    }
   ],
   "source": [
    "10 ** res.params['Intercept']"
   ]
  },
  {
   "cell_type": "code",
   "execution_count": null,
   "metadata": {
    "collapsed": false
   },
   "outputs": [],
   "source": []
  },
  {
   "cell_type": "code",
   "execution_count": 377,
   "metadata": {
    "collapsed": false
   },
   "outputs": [
    {
     "data": {
      "image/png": "[encoded data removed]",
      "text/plain": [
       "<matplotlib.figure.Figure at 0x2b216613bac8>"
      ]
     },
     "metadata": {},
     "output_type": "display_data"
    }
   ],
   "source": [
    "figsize(6, 5)\n",
    "y = log10(s)\n",
    "X = log10(input_molecules)\n",
    "xx = np.linspace(X.min(), X.max())\n",
    "\n",
    "plt.scatter(X, y, s=40, edgecolor='none', c='b')\n",
    "plt.plot(xx, xx, c='k', label='#UMI = #Molecules')\n",
    "plt.plot(xx - res.params['Intercept'], xx, label='#UMI = Efficiency * #Molecules')\n",
    "sns.despine()\n",
    "sns.axlabel('log10 Input ERCC molecules', 'log10 counted UMIs')\n",
    "plt.tight_layout()\n",
    "plt.savefig('figures_rev_1/supp-umi-efficiency-illustration.pdf')"
   ]
  },
  {
   "cell_type": "code",
   "execution_count": null,
   "metadata": {
    "collapsed": true
   },
   "outputs": [],
   "source": []
  },
  {
   "cell_type": "code",
   "execution_count": null,
   "metadata": {
    "collapsed": true
   },
   "outputs": [],
   "source": []
  }
 ],
 "metadata": {
  "kernelspec": {
   "display_name": "Python 3",
   "language": "python",
   "name": "python3"
  },
  "language_info": {
   "codemirror_mode": {
    "name": "ipython",
    "version": 3
   },
   "file_extension": ".py",
   "mimetype": "text/x-python",
   "name": "python",
   "nbconvert_exporter": "python",
   "pygments_lexer": "ipython3",
   "version": "3.5.1"
  }
 },
 "nbformat": 4,
 "nbformat_minor": 0
}
